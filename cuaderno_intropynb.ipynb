{
  "nbformat": 4,
  "nbformat_minor": 0,
  "metadata": {
    "colab": {
      "name": "cuaderno intropynb",
      "provenance": [],
      "authorship_tag": "ABX9TyNDp4Uy8dI8e5zzMxlfDe66",
      "include_colab_link": true
    },
    "kernelspec": {
      "name": "python3",
      "display_name": "Python 3"
    },
    "language_info": {
      "name": "python"
    }
  },
  "cells": [
    {
      "cell_type": "markdown",
      "metadata": {
        "id": "view-in-github",
        "colab_type": "text"
      },
      "source": [
        "<a href=\"https://colab.research.google.com/github/LuisK19/Cuaderno-2022---S2/blob/main/cuaderno_intropynb.ipynb\" target=\"_parent\"><img src=\"https://colab.research.google.com/assets/colab-badge.svg\" alt=\"Open In Colab\"/></a>"
      ]
    },
    {
      "cell_type": "code",
      "execution_count": null,
      "metadata": {
        "id": "TFwkHIr_TMCc"
      },
      "outputs": [],
      "source": [
        ""
      ]
    }
  ]
}